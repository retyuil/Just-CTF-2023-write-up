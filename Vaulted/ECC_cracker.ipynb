{
 "cells": [
  {
   "cell_type": "code",
   "execution_count": 20,
   "metadata": {},
   "outputs": [
    {
     "name": "stdout",
     "output_type": "stream",
     "text": [
      "115792089237316195423570985008687907852837564279074904382605163141518161494337\n"
     ]
    }
   ],
   "source": [
    "p = Integer(\"0xFFFFFFFFFFFFFFFFFFFFFFFFFFFFFFFFFFFFFFFFFFFFFFFFFFFFFFFEFFFFFC2F\")\n",
    "\n",
    "a = Integer(\"0x0000000000000000000000000000000000000000000000000000000000000000\")\n",
    "b = Integer(\"0x0000000000000000000000000000000000000000000000000000000000000007\")\n",
    "\n",
    "K = GF(p)\n",
    "E = EllipticCurve(K,[a,b])\n",
    "\n",
    "G = E(55066263022277343669578718895168534326250603453777594175500187360389116729240,32670510020758816978083085130507043184471273380659243275938904335757337482424)\n",
    "\n",
    "Px1 = Integer(0x5056d8e3ae5269577328cb2210bdaa1cf3f076222fcf7222b5578af846685103)\n",
    "Py1 = mod((Px1^3 + 7),p).sqrt()\n",
    "\n",
    "P1 = E(Px1,Py1)\n",
    "\n",
    "Px2 = Integer(0x66aa51a20e5619620d344f3c65b0150a66670b67c10dac5d619f7c713c13d98f)\n",
    "Py2 = mod((Px2^3 + 7),p).sqrt()\n",
    "P2 = E(Px2,Py2)\n",
    "\n",
    "print(P2.order())\n",
    "        "
   ]
  },
  {
   "cell_type": "code",
   "execution_count": null,
   "metadata": {},
   "outputs": [],
   "source": []
  }
 ],
 "metadata": {
  "kernelspec": {
   "display_name": "SageMath 9.3",
   "language": "sage",
   "name": "sagemath"
  },
  "language_info": {
   "codemirror_mode": {
    "name": "ipython",
    "version": 3
   },
   "file_extension": ".py",
   "mimetype": "text/x-python",
   "name": "python",
   "nbconvert_exporter": "python",
   "pygments_lexer": "ipython3",
   "version": "3.7.10"
  }
 },
 "nbformat": 4,
 "nbformat_minor": 4
}
